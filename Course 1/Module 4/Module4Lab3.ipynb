{
  "cells": [
    {
      "cell_type": "markdown",
      "metadata": {
        "id": "928cd4db-da47-427f-938f-2e9dd5ac4928"
      },
      "source": [
        "<p style=\"text-align:center\">\n",
        "    <a href=\"https://skills.network\" target=\"_blank\">\n",
        "    <img src=\"https://cf-courses-data.s3.us.cloud-object-storage.appdomain.cloud/assets/logos/SN_web_lightmode.png\" width=\"200\" alt=\"Skills Network Logo\">\n",
        "    </a>\n",
        "</p>\n"
      ]
    },
    {
      "cell_type": "markdown",
      "metadata": {
        "id": "a0bbc7e6-8440-4bfa-9c2d-40fc98d24f58"
      },
      "source": [
        "#  **Softmax Regression, One-vs-All and One-vs-One for Multi-class Classification**\n"
      ]
    },
    {
      "cell_type": "markdown",
      "metadata": {
        "id": "65d146e3-bec5-4b2b-b9c1-90a67cc29853"
      },
      "source": [
        "Estimated time needed: **1** hour\n"
      ]
    },
    {
      "cell_type": "markdown",
      "metadata": {
        "id": "9dcfaa89-98f2-44e7-8bb2-e620c0ffb5e3"
      },
      "source": [
        " In this lab, we will study how to convert a linear classifier into a multi-class classifier, including multinomial logistic regression or softmax regression, One vs. All (One-vs-Rest) and One vs. One.\n"
      ]
    },
    {
      "cell_type": "markdown",
      "metadata": {
        "id": "71fdd200-c0d1-4d6b-b389-d7b5d7d6d8b7"
      },
      "source": [
        "## **Objectives**\n"
      ]
    },
    {
      "cell_type": "markdown",
      "metadata": {
        "id": "b4d5fada-b923-42b2-a70a-f5091118fff3"
      },
      "source": [
        "After completing this lab you will be able to:\n"
      ]
    },
    {
      "cell_type": "markdown",
      "metadata": {
        "id": "e9d21f0b-ef3f-4bb1-ba51-fbf4ce743cc3"
      },
      "source": [
        "*   Understand and apply some theory behind:\n",
        "    *  Softmax regression\n",
        "    *  One vs. All (One-vs-Rest)\n",
        "    * One vs. One\n"
      ]
    },
    {
      "cell_type": "markdown",
      "metadata": {
        "id": "a79ca118-2c5f-4cc9-8941-454eb3a2186f"
      },
      "source": [
        "## **Introduction**\n"
      ]
    },
    {
      "cell_type": "markdown",
      "metadata": {
        "id": "861821ae-a497-49af-ae10-6ce95cef549f"
      },
      "source": [
        "In Multi-class classification, we classify data into multiple class labels. Unlike classification trees and k-nearest neighbor, the concept of multi-class classification for linear classifiers is not as straightforward. We can convert logistic regression to multi-class classification using multinomial logistic regression or softmax regression; this is a generalization of logistic regression, this will not work for support vector machines. One vs. All (One-vs-Rest) and One vs. One are two other multi-class classification techniques can convert any two-class classifier into a multi-class classifier.\n"
      ]
    },
    {
      "cell_type": "markdown",
      "metadata": {
        "id": "e179e421-cf8f-4186-85e1-fec79c5c29a7"
      },
      "source": [
        "***\n"
      ]
    },
    {
      "cell_type": "markdown",
      "metadata": {
        "id": "6676ec06-5a15-4231-8774-e96910a81c7e"
      },
      "source": [
        "## **Install and Import the required libraries**\n"
      ]
    },
    {
      "cell_type": "markdown",
      "metadata": {
        "id": "b9afc792-aa7f-438e-9827-41f1d2b44daa"
      },
      "source": [
        "For this lab, we are going to be using several Python libraries such as scit-learn, numpy, and matplotlib  for visualizations. Some of these libraries might be installed in your lab environment, and others may need to be installed by you by removing the hash signs. The cells below will install these libraries when executed.\n"
      ]
    },
    {
      "cell_type": "code",
      "metadata": {
        "id": "cc7e43c8-e2b6-49fa-81cd-a804a9c773cd"
      },
      "outputs": [],
      "source": [
        "!pip install scikit-learn==1.0.2"
      ],
      "execution_count": null
    },
    {
      "cell_type": "code",
      "metadata": {
        "id": "6441fc6c-05ef-4acd-bed4-0d72d49ab665"
      },
      "outputs": [],
      "source": [
        "import numpy as np\n",
        "import matplotlib.pyplot as plt\n",
        "from sklearn import datasets\n",
        "from sklearn.svm import SVC\n",
        "from sklearn.linear_model import LogisticRegression\n",
        "from sklearn.metrics import accuracy_score\n",
        "import pandas as pd"
      ],
      "execution_count": 1
    },
    {
      "cell_type": "markdown",
      "metadata": {
        "id": "90f843cb-ed31-4f3f-9b92-411cba747284"
      },
      "source": [
        "## Utility Function\n"
      ]
    },
    {
      "cell_type": "markdown",
      "metadata": {
        "id": "83106554-0fce-4156-99c3-10b15fd77c5a"
      },
      "source": [
        "This function plots a different decision boundary.\n"
      ]
    },
    {
      "cell_type": "code",
      "metadata": {
        "id": "46c85a70-d071-4fdf-ab0f-6a464abbb1ae"
      },
      "outputs": [],
      "source": [
        "plot_colors = \"ryb\"\n",
        "plot_step = 0.02\n",
        "\n",
        "def decision_boundary (X,y,model,iris, two=None):\n",
        "    x_min, x_max = X[:, 0].min() - 1, X[:, 0].max() + 1\n",
        "    y_min, y_max = X[:, 1].min() - 1, X[:, 1].max() + 1\n",
        "    xx, yy = np.meshgrid(np.arange(x_min, x_max, plot_step),\n",
        "                         np.arange(y_min, y_max, plot_step))\n",
        "    plt.tight_layout(h_pad=0.5, w_pad=0.5, pad=2.5)\n",
        "\n",
        "    Z = model.predict(np.c_[xx.ravel(), yy.ravel()])\n",
        "    Z = Z.reshape(xx.shape)\n",
        "    cs = plt.contourf(xx, yy, Z,cmap=plt.cm.RdYlBu)\n",
        "\n",
        "    if two:\n",
        "        cs = plt.contourf(xx, yy, Z,cmap=plt.cm.RdYlBu)\n",
        "        for i, color in zip(np.unique(y), plot_colors):\n",
        "\n",
        "            idx = np.where( y== i)\n",
        "            plt.scatter(X[idx, 0], X[idx, 1], label=y,cmap=plt.cm.RdYlBu, s=15)\n",
        "        plt.show()\n",
        "\n",
        "    else:\n",
        "        set_={0,1,2}\n",
        "        print(set_)\n",
        "        for i, color in zip(range(3), plot_colors):\n",
        "            idx = np.where( y== i)\n",
        "            if np.any(idx):\n",
        "\n",
        "                set_.remove(i)\n",
        "\n",
        "                plt.scatter(X[idx, 0], X[idx, 1], label=y,cmap=plt.cm.RdYlBu, edgecolor='black', s=15)\n",
        "\n",
        "\n",
        "        for  i in set_:\n",
        "            idx = np.where( iris.target== i)\n",
        "            plt.scatter(X[idx, 0], X[idx, 1], marker='x',color='black')\n",
        "\n",
        "        plt.show()\n"
      ],
      "execution_count": 2
    },
    {
      "cell_type": "markdown",
      "metadata": {
        "id": "930fbfad-096b-4bc7-99fc-cef2ce986ff9"
      },
      "source": [
        "This function will plot the probability of belonging to each class; each column is the probability of belonging to a class and the row number is the sample number.\n"
      ]
    },
    {
      "cell_type": "code",
      "metadata": {
        "id": "0d94ae9c-ffd5-4b08-bfbc-53af5ec90ccc"
      },
      "outputs": [],
      "source": [
        "def plot_probability_array(X,probability_array):\n",
        "\n",
        "    plot_array=np.zeros((X.shape[0],30))\n",
        "    col_start=0\n",
        "    ones=np.ones((X.shape[0],30))\n",
        "    for class_,col_end in enumerate([10,20,30]):\n",
        "        plot_array[:,col_start:col_end]= np.repeat(probability_array[:,class_].reshape(-1,1), 10,axis=1)\n",
        "        col_start=col_end\n",
        "    plt.imshow(plot_array)\n",
        "    plt.xticks([])\n",
        "    plt.ylabel(\"samples\")\n",
        "    plt.xlabel(\"probability of 3 classes\")\n",
        "    plt.colorbar()\n",
        "    plt.show()"
      ],
      "execution_count": 3
    },
    {
      "cell_type": "markdown",
      "metadata": {
        "id": "1b6c3d4c-89ea-4de2-aa20-c782cb131fa4"
      },
      "source": [
        "In ths lab we will use the  iris dataset,  it consists of three different types of irises’ (Setosa y=0, Versicolour y=1, and Virginica y=2), petal and sepal length, stored in a 150x4 numpy.ndarray.\n",
        "\n",
        "The rows being the samples and the columns: Sepal Length, Sepal Width, Petal Length and Petal Width.\n",
        "\n",
        "The following plot uses the second two features:\n"
      ]
    },
    {
      "cell_type": "code",
      "metadata": {
        "id": "8a81061e-5585-47a2-81b7-ea2be7ae426c",
        "colab": {
          "base_uri": "https://localhost:8080/"
        },
        "outputId": "f53a10c0-8296-4dd9-d9fd-8b72c9e4bd72"
      },
      "outputs": [
        {
          "output_type": "execute_result",
          "data": {
            "text/plain": [
              "array([0, 1, 2])"
            ]
          },
          "metadata": {},
          "execution_count": 7
        }
      ],
      "source": [
        "pair=[1, 3]\n",
        "iris = datasets.load_iris()\n",
        "X = iris.data[:, pair]\n",
        "y = iris.target\n",
        "np.unique(y)"
      ],
      "execution_count": 7
    },
    {
      "cell_type": "code",
      "metadata": {
        "id": "d73cfa69-ecc0-43e9-b22f-56dfa52523d6",
        "colab": {
          "base_uri": "https://localhost:8080/",
          "height": 466
        },
        "outputId": "c3056d56-79b0-4e70-87a1-0a6f3030d0e5"
      },
      "outputs": [
        {
          "output_type": "execute_result",
          "data": {
            "text/plain": [
              "Text(0, 0.5, 'petal width')"
            ]
          },
          "metadata": {},
          "execution_count": 8
        },
        {
          "output_type": "display_data",
          "data": {
            "text/plain": [
              "<Figure size 640x480 with 1 Axes>"
            ],
            "image/png": "[encoded data removed]"
          },
          "metadata": {}
        }
      ],
      "source": [
        "plt.scatter(X[:, 0], X[:, 1], c=y, cmap=plt.cm.RdYlBu)\n",
        "plt.xlabel(\"sepal width (cm)\")\n",
        "plt.ylabel(\"petal width\")"
      ],
      "execution_count": 8
    },
    {
      "cell_type": "markdown",
      "metadata": {
        "id": "cdad748d-1435-4542-909d-f37655ab895d"
      },
      "source": [
        "## **Softmax Regression**  \n"
      ]
    },
    {
      "cell_type": "markdown",
      "metadata": {
        "id": "35bbe2f0-325b-4c48-a1b5-b559cd07ac36"
      },
      "source": [
        "SoftMax regression is similar to logistic regression, and the softmax function converts the actual distances, that is, dot products of $x$ with each of the parameters $\\theta_i$ for the $K$ classes. This is converted to probabilities using the following:\n"
      ]
    },
    {
      "cell_type": "markdown",
      "metadata": {
        "id": "5f300ea5-cb97-43b0-b4c5-faf213695b1f"
      },
      "source": [
        "$softmax(x,i) = \\frac{e^{ \\theta_i^T \\bf x}}{\\sum_{j=1}^K e^{\\theta_j^T x}} $\n"
      ]
    },
    {
      "cell_type": "markdown",
      "metadata": {
        "id": "a9d35e65-221b-4957-9a7c-97581482efa5"
      },
      "source": [
        "The training procedure is almost identical to logistic regression. Consider the three-class example where $y \\in \\{0,1,2\\}$ we would like to classify $x_1$. We can use the softmax function to generate a probability of how likely the sample belongs to each class:\n"
      ]
    },
    {
      "cell_type": "markdown",
      "metadata": {
        "id": "0f74ffdc-21bc-4927-b128-b131c76cf0c6"
      },
      "source": [
        "$[softmax(x_1,0),softmax(x_1,1),softmax(x_1,2)]=[0.97,0.2,0.1]$\n"
      ]
    },
    {
      "cell_type": "markdown",
      "metadata": {
        "id": "3f302f5b-cd98-4451-bc1f-4101f48f3a88"
      },
      "source": [
        "The index of each probability is the same as the class. We can make a prediction using the argmax function:\n"
      ]
    },
    {
      "cell_type": "markdown",
      "metadata": {
        "id": "85b1ae40-16fe-4351-be49-960054d6add8"
      },
      "source": [
        "$\\hat{y}=argmax_i  \\{softmax(x,i)\\}$\n"
      ]
    },
    {
      "cell_type": "markdown",
      "metadata": {
        "id": "372a4770-b714-4e6a-b829-5cb5197daa5b"
      },
      "source": [
        "For the previous example, we can make a prediction as follows:\n"
      ]
    },
    {
      "cell_type": "markdown",
      "metadata": {
        "id": "6c295917-0d84-4533-8dab-bbc81bf4dd1d"
      },
      "source": [
        "$\\hat{y}=argmax_i  \\{[0.97,0.2,0.1]\\}=0$\n"
      ]
    },
    {
      "cell_type": "markdown",
      "metadata": {
        "id": "28d3152e-c7ee-496e-9c52-99fdc57afed4"
      },
      "source": [
        "The <code>sklearn</code> does this automatically, but we can verify the prediction step, as we fit the model:\n"
      ]
    },
    {
      "cell_type": "code",
      "metadata": {
        "id": "c4682a8a-bdf8-43f4-be2c-d1865275eb6d"
      },
      "outputs": [],
      "source": [
        "lr = LogisticRegression(random_state=0).fit(X, y)"
      ],
      "execution_count": 9
    },
    {
      "cell_type": "markdown",
      "metadata": {
        "id": "8f19b6d8-4fac-49b6-bb66-bbdcc28165c8"
      },
      "source": [
        "We generate the probability using the method <ocde>predict_proba</code>:\n"
      ]
    },
    {
      "cell_type": "code",
      "metadata": {
        "id": "6fc4cfc2-f76d-4e8e-bc29-5ab0e47c4ba6"
      },
      "outputs": [],
      "source": [
        "probability=lr.predict_proba(X)\n"
      ],
      "execution_count": 10
    },
    {
      "cell_type": "markdown",
      "metadata": {
        "id": "b973faa1-5165-4872-b67d-8b95a67a36cf"
      },
      "source": [
        "We can plot the probability of belonging to each class; each column is the probability of belonging to a class and the row number is the sample number.\n"
      ]
    },
    {
      "cell_type": "code",
      "metadata": {
        "id": "40ebdfbe-d485-4985-95c9-957b2dfd6bef",
        "colab": {
          "base_uri": "https://localhost:8080/",
          "height": 430
        },
        "outputId": "604179c6-763a-45e5-e347-05879aa6f1c9"
      },
      "outputs": [
        {
          "output_type": "display_data",
          "data": {
            "text/plain": [
              "<Figure size 640x480 with 2 Axes>"
            ],
            "image/png": "[encoded data removed]"
          },
          "metadata": {}
        }
      ],
      "source": [
        "plot_probability_array(X,probability)"
      ],
      "execution_count": 11
    },
    {
      "cell_type": "markdown",
      "metadata": {
        "id": "61b9c1b3-8597-4465-a2ee-4ba8d372848c"
      },
      "source": [
        "Here, is the output for the first sample:\n"
      ]
    },
    {
      "cell_type": "code",
      "metadata": {
        "id": "9701d08e-748f-47b0-a8a4-397afddc0cf9",
        "colab": {
          "base_uri": "https://localhost:8080/"
        },
        "outputId": "54a473b8-fbae-4b9b-cd5c-0bf0b6ced7d9"
      },
      "outputs": [
        {
          "output_type": "execute_result",
          "data": {
            "text/plain": [
              "array([9.57579132e-01, 4.23242810e-02, 9.65866230e-05])"
            ]
          },
          "metadata": {},
          "execution_count": 12
        }
      ],
      "source": [
        "probability[0,:]"
      ],
      "execution_count": 12
    },
    {
      "cell_type": "markdown",
      "metadata": {
        "id": "707ed304-3b05-448d-9716-80f843d3171a"
      },
      "source": [
        "We see it sums to one.\n"
      ]
    },
    {
      "cell_type": "code",
      "metadata": {
        "id": "4cbf6cfa-6d53-40cb-be07-a0d469e7f4bb",
        "colab": {
          "base_uri": "https://localhost:8080/"
        },
        "outputId": "9166e946-5374-42ca-a2c2-a409aade70c3"
      },
      "outputs": [
        {
          "output_type": "execute_result",
          "data": {
            "text/plain": [
              "0.9999999999999999"
            ]
          },
          "metadata": {},
          "execution_count": 13
        }
      ],
      "source": [
        "probability[0,:].sum()"
      ],
      "execution_count": 13
    },
    {
      "cell_type": "markdown",
      "metadata": {
        "id": "1f8d2c49-728d-44cd-9945-70a34ed05861"
      },
      "source": [
        "We can apply the $argmax$ function.\n"
      ]
    },
    {
      "cell_type": "code",
      "metadata": {
        "id": "c4c0db71-b633-4d2a-80ab-fde0afb35b6b",
        "colab": {
          "base_uri": "https://localhost:8080/"
        },
        "outputId": "072fcdf8-330c-48ce-f0cd-43905937c520"
      },
      "outputs": [
        {
          "output_type": "execute_result",
          "data": {
            "text/plain": [
              "0"
            ]
          },
          "metadata": {},
          "execution_count": 14
        }
      ],
      "source": [
        "np.argmax(probability[0,:])"
      ],
      "execution_count": 14
    },
    {
      "cell_type": "markdown",
      "metadata": {
        "id": "8a8b3c7e-dc02-405a-96ea-93e0676edc44"
      },
      "source": [
        "We can apply the $argmax$ function to each sample.\n"
      ]
    },
    {
      "cell_type": "code",
      "metadata": {
        "id": "9a664cbc-e5e5-4c8e-b599-4f22f5f91ec2",
        "colab": {
          "base_uri": "https://localhost:8080/"
        },
        "outputId": "840adcbb-ffa7-4a26-d18f-6c30c060110a"
      },
      "outputs": [
        {
          "output_type": "execute_result",
          "data": {
            "text/plain": [
              "array([0, 0, 0, 0, 0, 0, 0, 0, 0, 0, 0, 0, 0, 0, 0, 0, 0, 0, 0, 0, 0, 0,\n",
              "       0, 0, 0, 0, 0, 0, 0, 0, 0, 0, 0, 0, 0, 0, 0, 0, 0, 0, 0, 0, 0, 0,\n",
              "       0, 0, 0, 0, 0, 0, 1, 1, 1, 1, 1, 1, 1, 1, 1, 1, 1, 1, 1, 1, 1, 1,\n",
              "       1, 1, 1, 1, 2, 1, 1, 1, 1, 1, 1, 2, 1, 1, 1, 1, 1, 1, 1, 1, 1, 1,\n",
              "       1, 1, 1, 1, 1, 1, 1, 1, 1, 1, 1, 1, 2, 2, 2, 2, 2, 2, 2, 2, 2, 2,\n",
              "       2, 2, 2, 2, 2, 2, 2, 2, 2, 1, 2, 2, 2, 2, 2, 2, 2, 2, 2, 1, 2, 2,\n",
              "       2, 1, 1, 2, 2, 2, 2, 2, 2, 2, 2, 2, 2, 2, 2, 2, 2, 2])"
            ]
          },
          "metadata": {},
          "execution_count": 17
        }
      ],
      "source": [
        "softmax_prediction=np.argmax(probability,axis=1)\n",
        "softmax_prediction"
      ],
      "execution_count": 17
    },
    {
      "cell_type": "markdown",
      "metadata": {
        "id": "5f82c559-908f-4ee6-81db-9572c0391e26"
      },
      "source": [
        "We can verify that sklearn does this under the hood by comparing it to the output of the method <code> predict  </code>.\n"
      ]
    },
    {
      "cell_type": "code",
      "metadata": {
        "id": "c9f57196-4264-4fc7-b8bc-0ffb58a55211",
        "colab": {
          "base_uri": "https://localhost:8080/"
        },
        "outputId": "da40e5b3-8f94-4b70-f005-a264cfe95b80"
      },
      "outputs": [
        {
          "output_type": "execute_result",
          "data": {
            "text/plain": [
              "1.0"
            ]
          },
          "metadata": {},
          "execution_count": 18
        }
      ],
      "source": [
        "yhat =lr.predict(X)\n",
        "accuracy_score(yhat,softmax_prediction)"
      ],
      "execution_count": 18
    },
    {
      "cell_type": "markdown",
      "metadata": {
        "id": "d183d30c-2238-4dfa-9616-58a65eba418b"
      },
      "source": [
        "We can't use Softmax regression for SVMs, Let's explore two methods of Multi-class Classification that we can apply to SVM.\n"
      ]
    },
    {
      "cell_type": "markdown",
      "metadata": {
        "id": "4b62e64b-2072-47c5-b6e4-a2ff0efb1106"
      },
      "source": [
        "## SVM\n"
      ]
    },
    {
      "cell_type": "markdown",
      "metadata": {
        "id": "e062d183-e405-4fc7-9ef9-c3bcc3b73122"
      },
      "source": [
        "Sklean performs Multi-class Classification automatically, we can apply the method and calculate the accuracy. Train a SVM classifier with the `kernel` set to `linear`, `gamma` set to `0.5`, and the `probability` paramter set to `True`, then train the model using the `X` and `y` data.\n"
      ]
    },
    {
      "cell_type": "code",
      "metadata": {
        "id": "664a8605-b8bb-4109-a2ba-8e845e0200ef"
      },
      "outputs": [],
      "source": [
        "model = SVC(kernel='linear', gamma=.5, probability=True).fit(X,y)"
      ],
      "execution_count": 20
    },
    {
      "cell_type": "markdown",
      "metadata": {
        "id": "ac2890ee-ede9-458a-887a-bca131a209fd"
      },
      "source": [
        "<details><summary>Click here for the solution</summary>\n",
        "\n",
        "```python    \n",
        "model = SVC(kernel='linear', gamma=.5, probability=True)\n",
        "\n",
        "model.fit(X,y)\n",
        "\n",
        "```\n",
        "\n",
        "</details>\n"
      ]
    },
    {
      "cell_type": "markdown",
      "metadata": {
        "id": "4f43782c-0b97-4f17-828c-4ba78dabfbb5"
      },
      "source": [
        "Find the `accuracy_score` on the training data.\n"
      ]
    },
    {
      "cell_type": "code",
      "metadata": {
        "id": "705615ff-f75d-4ead-92cc-d493af2e5b80",
        "colab": {
          "base_uri": "https://localhost:8080/"
        },
        "outputId": "b0c968c3-c8ff-4b04-88aa-6e621cbe3e4d"
      },
      "outputs": [
        {
          "output_type": "execute_result",
          "data": {
            "text/plain": [
              "0.96"
            ]
          },
          "metadata": {},
          "execution_count": 21
        }
      ],
      "source": [
        "yhat = model.predict(X)\n",
        "accuracy_score(y,yhat)"
      ],
      "execution_count": 21
    },
    {
      "cell_type": "markdown",
      "metadata": {
        "id": "251b8796-5547-47d5-8d93-9e7252e558bf"
      },
      "source": [
        "<details><summary>Click here for the solution</summary>\n",
        "\n",
        "```python    \n",
        "yhat = model.predict(X)\n",
        "\n",
        "accuracy_score(y,yhat)\n",
        "\n",
        "```\n",
        "\n",
        "</details>\n"
      ]
    },
    {
      "cell_type": "markdown",
      "metadata": {
        "id": "0c946da1-0a2f-45b0-a09a-ecb8b95abe82"
      },
      "source": [
        "We can plot the decision_boundary.\n"
      ]
    },
    {
      "cell_type": "code",
      "metadata": {
        "id": "f40cd1ee-c517-40c7-9a7b-652ea8d1dd75",
        "colab": {
          "base_uri": "https://localhost:8080/",
          "height": 482
        },
        "outputId": "ae09aa9f-4c2d-4b3c-e014-fb97d2afece7"
      },
      "outputs": [
        {
          "output_type": "stream",
          "name": "stdout",
          "text": [
            "{0, 1, 2}\n"
          ]
        },
        {
          "output_type": "stream",
          "name": "stderr",
          "text": [
            "<ipython-input-2-2a309bb32c0e>:32: UserWarning: No data for colormapping provided via 'c'. Parameters 'cmap' will be ignored\n",
            "  plt.scatter(X[idx, 0], X[idx, 1], label=y,cmap=plt.cm.RdYlBu, edgecolor='black', s=15)\n"
          ]
        },
        {
          "output_type": "display_data",
          "data": {
            "text/plain": [
              "<Figure size 640x480 with 1 Axes>"
            ],
            "image/png": "[encoded data removed]"
          },
          "metadata": {}
        }
      ],
      "source": [
        "decision_boundary (X,y,model,iris)"
      ],
      "execution_count": 22
    },
    {
      "cell_type": "markdown",
      "metadata": {
        "id": "89e26a5f-470e-4081-82c1-ba39153446a3"
      },
      "source": [
        "Let's implement One vs. All and One vs One:\n"
      ]
    },
    {
      "cell_type": "markdown",
      "metadata": {
        "id": "ba2b70cb-5993-4b46-9e2c-82ffc5f17866"
      },
      "source": [
        "## One vs. All (One-vs-Rest)\n"
      ]
    },
    {
      "cell_type": "markdown",
      "metadata": {
        "id": "5738c141-108c-4389-aa7f-c510b331091d"
      },
      "source": [
        "For one-vs-all classification, if we have K classes, we use K two-class classifier models. The number of class labels present in the dataset is equal to the number of generated classifiers. First, we create an artificial class we will call this \"dummy\" class. For each classifier, we split the data into two classes. We take the class samples we would like to classify, the rest of the samples will be labelled as a dummy class. We repeat the process for each class. To make a  classification, we use the classifier with the highest probability, disregarding the dummy class.\n"
      ]
    },
    {
      "cell_type": "markdown",
      "metadata": {
        "id": "df811889-e216-4d74-81fb-536e8b9f0612"
      },
      "source": [
        "### Train Each Classifier\n"
      ]
    },
    {
      "cell_type": "markdown",
      "metadata": {
        "id": "da547575-f003-425a-9a04-327ade822df7"
      },
      "source": [
        "Here, we train three classifiers and place them in the list <code>my_models</code>. For each class we take the class samples we would like to classify, and the rest will be labelled as a dummy class. We repeat the process for each class. For each classifier, we plot the decision regions. The class we are interested in is in red, and the dummy class is in blue. Similarly, the class samples are marked in blue, and the dummy samples are marked with a black x.\n"
      ]
    },
    {
      "cell_type": "code",
      "metadata": {
        "id": "97791ecd-cf32-4226-8264-70376ec0f0f0",
        "colab": {
          "base_uri": "https://localhost:8080/",
          "height": 1000
        },
        "outputId": "8446bdf6-eaa2-432c-d88f-641e9195dbfb"
      },
      "outputs": [
        {
          "output_type": "stream",
          "name": "stdout",
          "text": [
            "{0, 1, 2}\n"
          ]
        },
        {
          "output_type": "stream",
          "name": "stderr",
          "text": [
            "<ipython-input-2-2a309bb32c0e>:32: UserWarning: No data for colormapping provided via 'c'. Parameters 'cmap' will be ignored\n",
            "  plt.scatter(X[idx, 0], X[idx, 1], label=y,cmap=plt.cm.RdYlBu, edgecolor='black', s=15)\n"
          ]
        },
        {
          "output_type": "display_data",
          "data": {
            "text/plain": [
              "<Figure size 640x480 with 1 Axes>"
            ],
            "image/png": "[encoded data removed]"
          },
          "metadata": {}
        },
        {
          "output_type": "stream",
          "name": "stdout",
          "text": [
            "{0, 1, 2}\n"
          ]
        },
        {
          "output_type": "stream",
          "name": "stderr",
          "text": [
            "<ipython-input-2-2a309bb32c0e>:32: UserWarning: No data for colormapping provided via 'c'. Parameters 'cmap' will be ignored\n",
            "  plt.scatter(X[idx, 0], X[idx, 1], label=y,cmap=plt.cm.RdYlBu, edgecolor='black', s=15)\n"
          ]
        },
        {
          "output_type": "display_data",
          "data": {
            "text/plain": [
              "<Figure size 640x480 with 1 Axes>"
            ],
            "image/png": "[encoded data removed]"
          },
          "metadata": {}
        },
        {
          "output_type": "stream",
          "name": "stdout",
          "text": [
            "{0, 1, 2}\n"
          ]
        },
        {
          "output_type": "stream",
          "name": "stderr",
          "text": [
            "<ipython-input-2-2a309bb32c0e>:32: UserWarning: No data for colormapping provided via 'c'. Parameters 'cmap' will be ignored\n",
            "  plt.scatter(X[idx, 0], X[idx, 1], label=y,cmap=plt.cm.RdYlBu, edgecolor='black', s=15)\n"
          ]
        },
        {
          "output_type": "display_data",
          "data": {
            "text/plain": [
              "<Figure size 640x480 with 1 Axes>"
            ],
            "image/png": "[encoded data removed]"
          },
          "metadata": {}
        }
      ],
      "source": [
        "#dummy class\n",
        "dummy_class=y.max()+1\n",
        "#list used for classifiers\n",
        "my_models=[]\n",
        "#iterate through each class\n",
        "for class_ in np.unique(y):\n",
        "    #select the index of our  class\n",
        "    select=(y==class_)\n",
        "    temp_y=np.zeros(y.shape)\n",
        "    #class, we are trying to classify\n",
        "    temp_y[y==class_]=class_\n",
        "    #set other samples  to a dummy class\n",
        "    temp_y[y!=class_]=dummy_class\n",
        "    #Train model and add to list\n",
        "    model=SVC(kernel='linear', gamma=.5, probability=True)\n",
        "    my_models.append(model.fit(X,temp_y))\n",
        "    #plot decision boundary\n",
        "    decision_boundary (X,temp_y,model,iris)\n"
      ],
      "execution_count": 23
    },
    {
      "cell_type": "markdown",
      "metadata": {
        "id": "7a85b17c-2041-4712-81fa-6ad3d147fefc"
      },
      "source": [
        " For each sample we calculate the  probability of belonging to each class, not including the dummy class.\n"
      ]
    },
    {
      "cell_type": "code",
      "metadata": {
        "id": "7fb9c1e0-72e0-4bb1-9b24-6997ddc3cf37"
      },
      "outputs": [],
      "source": [
        "probability_array=np.zeros((X.shape[0],3))\n",
        "for j,model in enumerate(my_models):\n",
        "\n",
        "    real_class=np.where(np.array(model.classes_)!=3)[0]\n",
        "\n",
        "    probability_array[:,j]=model.predict_proba(X)[:,real_class][:,0]"
      ],
      "execution_count": 24
    },
    {
      "cell_type": "markdown",
      "metadata": {
        "id": "bb29f68f-3851-4b33-b81d-1bcd0bc395c4"
      },
      "source": [
        "Here, is the probability of belonging to each class for the first sample.\n"
      ]
    },
    {
      "cell_type": "code",
      "metadata": {
        "id": "a84a5b7d-ecba-4ae4-8947-69bfa6c8fbdd",
        "colab": {
          "base_uri": "https://localhost:8080/"
        },
        "outputId": "dc743fc1-edfe-42bf-896f-8b0637a0a3b8"
      },
      "outputs": [
        {
          "output_type": "execute_result",
          "data": {
            "text/plain": [
              "array([9.90781743e-01, 1.12187983e-01, 8.00127191e-12])"
            ]
          },
          "metadata": {},
          "execution_count": 25
        }
      ],
      "source": [
        "probability_array[0,:]"
      ],
      "execution_count": 25
    },
    {
      "cell_type": "markdown",
      "metadata": {
        "id": "99a014fb-a2a5-4666-847e-8959f547db28"
      },
      "source": [
        "As each is the probability of belonging to the actual class and not the dummy class, it does not sum to one.\n"
      ]
    },
    {
      "cell_type": "code",
      "metadata": {
        "id": "fe770c69-8815-4623-aa9b-bdc70174ae53",
        "colab": {
          "base_uri": "https://localhost:8080/"
        },
        "outputId": "0033072a-a7b3-4c2e-ed6c-bcb90b9a4084"
      },
      "outputs": [
        {
          "output_type": "execute_result",
          "data": {
            "text/plain": [
              "1.1029697254940307"
            ]
          },
          "metadata": {},
          "execution_count": 26
        }
      ],
      "source": [
        "probability_array[0,:].sum()"
      ],
      "execution_count": 26
    },
    {
      "cell_type": "markdown",
      "metadata": {
        "id": "5dc8461c-1954-4ab3-8663-b2cdbc0141a9"
      },
      "source": [
        "We can plot the probability of belonging to the class. The row number is the sample number.\n"
      ]
    },
    {
      "cell_type": "code",
      "metadata": {
        "id": "afbfb5ca-1d9a-44f4-8341-11da5f03068b",
        "colab": {
          "base_uri": "https://localhost:8080/",
          "height": 430
        },
        "outputId": "d7eb3ded-246a-4fee-a71a-9eb9b3ff4781"
      },
      "outputs": [
        {
          "output_type": "display_data",
          "data": {
            "text/plain": [
              "<Figure size 640x480 with 2 Axes>"
            ],
            "image/png": "[encoded data removed]"
          },
          "metadata": {}
        }
      ],
      "source": [
        "plot_probability_array(X,probability_array)"
      ],
      "execution_count": 27
    },
    {
      "cell_type": "markdown",
      "metadata": {
        "id": "fbb1f3a1-25e4-48ad-a57a-be712d453ace"
      },
      "source": [
        "We can apply the $argmax$ function to each sample to find the class.\n"
      ]
    },
    {
      "cell_type": "code",
      "metadata": {
        "id": "36b96811-9dbc-4533-a928-d1b801610c62",
        "colab": {
          "base_uri": "https://localhost:8080/"
        },
        "outputId": "ef4750c6-1dd4-47b4-8ad2-d2dffb67b8a0"
      },
      "outputs": [
        {
          "output_type": "execute_result",
          "data": {
            "text/plain": [
              "array([0, 0, 0, 0, 0, 0, 0, 0, 0, 0, 0, 0, 0, 0, 0, 0, 0, 0, 0, 0, 0, 0,\n",
              "       0, 0, 0, 0, 0, 0, 0, 0, 0, 0, 0, 0, 0, 0, 0, 0, 0, 0, 0, 1, 0, 0,\n",
              "       0, 0, 0, 0, 0, 0, 1, 1, 1, 1, 1, 1, 2, 1, 1, 1, 1, 1, 1, 1, 1, 1,\n",
              "       1, 1, 1, 1, 2, 1, 1, 1, 1, 1, 1, 2, 1, 1, 1, 1, 1, 1, 1, 2, 1, 1,\n",
              "       1, 1, 1, 1, 1, 1, 1, 1, 1, 1, 1, 1, 2, 2, 2, 2, 2, 2, 2, 2, 2, 2,\n",
              "       2, 2, 2, 2, 2, 2, 2, 2, 2, 1, 2, 2, 2, 2, 2, 2, 2, 2, 2, 2, 2, 2,\n",
              "       2, 1, 1, 2, 2, 2, 2, 2, 2, 2, 2, 2, 2, 2, 2, 2, 2, 2])"
            ]
          },
          "metadata": {},
          "execution_count": 28
        }
      ],
      "source": [
        "one_vs_all=np.argmax(probability_array,axis=1)\n",
        "one_vs_all"
      ],
      "execution_count": 28
    },
    {
      "cell_type": "markdown",
      "metadata": {
        "id": "c5271f47-7e75-4ea1-9372-f530e4cc8cc6"
      },
      "source": [
        "We can calculate the accuracy.\n"
      ]
    },
    {
      "cell_type": "code",
      "metadata": {
        "id": "2b86725b-3ca8-4bcb-aba4-dd28c103706b",
        "colab": {
          "base_uri": "https://localhost:8080/"
        },
        "outputId": "cc073b76-9103-4fd0-98d4-511f84c19e46"
      },
      "outputs": [
        {
          "output_type": "execute_result",
          "data": {
            "text/plain": [
              "0.9466666666666667"
            ]
          },
          "metadata": {},
          "execution_count": 29
        }
      ],
      "source": [
        "accuracy_score(y,one_vs_all)"
      ],
      "execution_count": 29
    },
    {
      "cell_type": "markdown",
      "metadata": {
        "id": "73155672-27bd-432e-8051-3a7be2018893"
      },
      "source": [
        "We see the accuracy is less than the one obtained by sklearn, and this is because for SVM, sklearn uses one vs one; let's verify it by comparing the outputs.\n"
      ]
    },
    {
      "cell_type": "code",
      "metadata": {
        "id": "4279c4e8-4f4d-4875-ae8e-8aba12927646",
        "colab": {
          "base_uri": "https://localhost:8080/"
        },
        "outputId": "7b28bc0b-b69a-4a92-c0a6-fb3216b0fe31"
      },
      "outputs": [
        {
          "output_type": "execute_result",
          "data": {
            "text/plain": [
              "0.9733333333333334"
            ]
          },
          "metadata": {},
          "execution_count": 30
        }
      ],
      "source": [
        "accuracy_score(one_vs_all,yhat)"
      ],
      "execution_count": 30
    },
    {
      "cell_type": "markdown",
      "metadata": {
        "id": "68d1eda7-e180-40df-804a-7e536df5be5c"
      },
      "source": [
        "We see that the outputs are different, now lets implement one vs one.\n"
      ]
    },
    {
      "cell_type": "markdown",
      "metadata": {
        "id": "4a84ad7f-e3c8-47fe-aa4f-f6cc35b11be6"
      },
      "source": [
        "## One vs One\n"
      ]
    },
    {
      "cell_type": "markdown",
      "metadata": {
        "id": "6d49036c-65a7-4e44-a6c5-047524449906"
      },
      "source": [
        "\n",
        "In One-vs-One classification, we split up the data into each class, and then train a two-class classifier on each pair of classes. For example, if we have class 0,1,2, we would train one classifier on the samples that are class 0 and class 1, a second classifier on samples that are of class 0 and class 2, and a final classifier on samples of class 1 and class 2.\n",
        "\n",
        "For $K$ classes, we have to train $K(K-1)/2$ classifiers. So, if $K=3$, we have $(3x2)/2=3 $classes.\n",
        "\n",
        "To perform classification on a sample, we perform a majority vote and select the class with the most predictions.\n"
      ]
    },
    {
      "cell_type": "markdown",
      "metadata": {
        "id": "6533b6a7-5e79-490f-8511-63914b061d6b"
      },
      "source": [
        "Here, we list each class.\n"
      ]
    },
    {
      "cell_type": "code",
      "metadata": {
        "id": "d675f75b-1f4b-44c8-9d28-8906146ddc0b",
        "colab": {
          "base_uri": "https://localhost:8080/"
        },
        "outputId": "3f74f7db-f9d4-4fa2-e7fe-3a7b8d75917a"
      },
      "outputs": [
        {
          "output_type": "execute_result",
          "data": {
            "text/plain": [
              "{0, 1, 2}"
            ]
          },
          "metadata": {},
          "execution_count": 31
        }
      ],
      "source": [
        "classes_=set(np.unique(y))\n",
        "classes_\n"
      ],
      "execution_count": 31
    },
    {
      "cell_type": "markdown",
      "metadata": {
        "id": "4c86c973-cdbd-451c-bbaa-fc4a1620b085"
      },
      "source": [
        "Determine the number of classifiers:\n"
      ]
    },
    {
      "cell_type": "code",
      "metadata": {
        "id": "7281a3a6-774d-468f-b67d-ff46c24419c6",
        "colab": {
          "base_uri": "https://localhost:8080/"
        },
        "outputId": "cc515183-2a56-440f-882f-22796a8c8360"
      },
      "outputs": [
        {
          "output_type": "execute_result",
          "data": {
            "text/plain": [
              "3.0"
            ]
          },
          "metadata": {},
          "execution_count": 32
        }
      ],
      "source": [
        "K=len(classes_)\n",
        "K*(K-1)/2"
      ],
      "execution_count": 32
    },
    {
      "cell_type": "markdown",
      "metadata": {
        "id": "727d75aa-e685-48b3-a04b-7e0330094ecc"
      },
      "source": [
        "We then train a two-class classifier on each pair of classes. We plot the different training points for each of the two classes.\n"
      ]
    },
    {
      "cell_type": "code",
      "metadata": {
        "id": "ee238f37-e0bf-4833-a4fc-f5e31e086c10",
        "colab": {
          "base_uri": "https://localhost:8080/",
          "height": 1000
        },
        "outputId": "4c0cd726-6393-464f-be8c-294fee89db56"
      },
      "outputs": [
        {
          "output_type": "stream",
          "name": "stdout",
          "text": [
            "class 0 vs class 1 \n"
          ]
        },
        {
          "output_type": "stream",
          "name": "stderr",
          "text": [
            "<ipython-input-2-2a309bb32c0e>:20: UserWarning: No data for colormapping provided via 'c'. Parameters 'cmap' will be ignored\n",
            "  plt.scatter(X[idx, 0], X[idx, 1], label=y,cmap=plt.cm.RdYlBu, s=15)\n"
          ]
        },
        {
          "output_type": "display_data",
          "data": {
            "text/plain": [
              "<Figure size 640x480 with 1 Axes>"
            ],
            "image/png": "[encoded data removed]"
          },
          "metadata": {}
        },
        {
          "output_type": "stream",
          "name": "stdout",
          "text": [
            "class 0 vs class 2 \n"
          ]
        },
        {
          "output_type": "stream",
          "name": "stderr",
          "text": [
            "<ipython-input-2-2a309bb32c0e>:20: UserWarning: No data for colormapping provided via 'c'. Parameters 'cmap' will be ignored\n",
            "  plt.scatter(X[idx, 0], X[idx, 1], label=y,cmap=plt.cm.RdYlBu, s=15)\n"
          ]
        },
        {
          "output_type": "display_data",
          "data": {
            "text/plain": [
              "<Figure size 640x480 with 1 Axes>"
            ],
            "image/png": "[encoded data removed]"
          },
          "metadata": {}
        },
        {
          "output_type": "stream",
          "name": "stdout",
          "text": [
            "class 1 vs class 2 \n"
          ]
        },
        {
          "output_type": "stream",
          "name": "stderr",
          "text": [
            "<ipython-input-2-2a309bb32c0e>:20: UserWarning: No data for colormapping provided via 'c'. Parameters 'cmap' will be ignored\n",
            "  plt.scatter(X[idx, 0], X[idx, 1], label=y,cmap=plt.cm.RdYlBu, s=15)\n"
          ]
        },
        {
          "output_type": "display_data",
          "data": {
            "text/plain": [
              "<Figure size 640x480 with 1 Axes>"
            ],
            "image/png": "[encoded data removed]"
          },
          "metadata": {}
        }
      ],
      "source": [
        "pairs=[]\n",
        "left_overs=classes_.copy()\n",
        "#list used for classifiers\n",
        "my_models=[]\n",
        "#iterate through each class\n",
        "for class_ in classes_:\n",
        "    #remove class we have seen before\n",
        "    left_overs.remove(class_)\n",
        "    #the second class in the pair\n",
        "    for second_class in left_overs:\n",
        "        pairs.append(str(class_)+' and '+str(second_class))\n",
        "        print(\"class {} vs class {} \".format(class_,second_class) )\n",
        "        temp_y=np.zeros(y.shape)\n",
        "        #find classes in pair\n",
        "        select=np.logical_or(y==class_ , y==second_class)\n",
        "        #train model\n",
        "        model=SVC(kernel='linear', gamma=.5, probability=True)\n",
        "        model.fit(X[select,:],y[select])\n",
        "        my_models.append(model)\n",
        "        #Plot decision boundary for each pair and corresponding Training samples.\n",
        "        decision_boundary (X[select,:],y[select],model,iris,two=True)\n",
        "\n",
        "\n"
      ],
      "execution_count": 33
    },
    {
      "cell_type": "code",
      "metadata": {
        "id": "4a0a4ad9-ac46-486e-85cd-51be431c7743",
        "colab": {
          "base_uri": "https://localhost:8080/"
        },
        "outputId": "9d0eae95-f50b-483e-c3e3-c3e1ca71e13a"
      },
      "outputs": [
        {
          "output_type": "execute_result",
          "data": {
            "text/plain": [
              "['0 and 1', '0 and 2', '1 and 2']"
            ]
          },
          "metadata": {},
          "execution_count": 34
        }
      ],
      "source": [
        "pairs"
      ],
      "execution_count": 34
    },
    {
      "cell_type": "markdown",
      "metadata": {
        "id": "291f0bbb-df67-402c-8d8f-198b9172ad05"
      },
      "source": [
        "As we can see, our data is left-skewed, containing more \"5\" star reviews.\n"
      ]
    },
    {
      "cell_type": "markdown",
      "metadata": {
        "id": "09c0bffd-ced1-43d4-9a91-df7f00404b26"
      },
      "source": [
        "Here, we are plotting the distribution of text length.\n"
      ]
    },
    {
      "cell_type": "code",
      "metadata": {
        "id": "da84a662-2745-49ef-9b78-22bb48e20b4c"
      },
      "outputs": [],
      "source": [
        "pairs\n",
        "majority_vote_array=np.zeros((X.shape[0],3))\n",
        "majority_vote_dict={}\n",
        "for j,(model,pair) in enumerate(zip(my_models,pairs)):\n",
        "\n",
        "    majority_vote_dict[pair]=model.predict(X)\n",
        "    majority_vote_array[:,j]=model.predict(X)"
      ],
      "execution_count": 35
    },
    {
      "cell_type": "markdown",
      "metadata": {
        "id": "140179a6-f9df-41cd-bfae-80903f0385e7"
      },
      "source": [
        "In the following table, each column is the output of a classifier for each pair of classes and the output is the prediction:\n"
      ]
    },
    {
      "cell_type": "code",
      "metadata": {
        "id": "37c80da4-cac3-4237-a4bc-354169cb9010",
        "colab": {
          "base_uri": "https://localhost:8080/",
          "height": 363
        },
        "outputId": "8b3639ce-6813-44d9-f558-c78ee1c0a038"
      },
      "outputs": [
        {
          "output_type": "execute_result",
          "data": {
            "text/plain": [
              "   0 and 1  0 and 2  1 and 2\n",
              "0        0        0        1\n",
              "1        0        0        1\n",
              "2        0        0        1\n",
              "3        0        0        1\n",
              "4        0        0        1\n",
              "5        0        0        1\n",
              "6        0        0        1\n",
              "7        0        0        1\n",
              "8        0        0        1\n",
              "9        0        0        1"
            ],
            "text/html": [
              "\n",
              "  <div id=\"df-df1a41ca-4a4c-4be0-a1a3-9c6338bbd954\" class=\"colab-df-container\">\n",
              "    <div>\n",
              "<style scoped>\n",
              "    .dataframe tbody tr th:only-of-type {\n",
              "        vertical-align: middle;\n",
              "    }\n",
              "\n",
              "    .dataframe tbody tr th {\n",
              "        vertical-align: top;\n",
              "    }\n",
              "\n",
              "    .dataframe thead th {\n",
              "        text-align: right;\n",
              "    }\n",
              "</style>\n",
              "<table border=\"1\" class=\"dataframe\">\n",
              "  <thead>\n",
              "    <tr style=\"text-align: right;\">\n",
              "      <th></th>\n",
              "      <th>0 and 1</th>\n",
              "      <th>0 and 2</th>\n",
              "      <th>1 and 2</th>\n",
              "    </tr>\n",
              "  </thead>\n",
              "  <tbody>\n",
              "    <tr>\n",
              "      <th>0</th>\n",
              "      <td>0</td>\n",
              "      <td>0</td>\n",
              "      <td>1</td>\n",
              "    </tr>\n",
              "    <tr>\n",
              "      <th>1</th>\n",
              "      <td>0</td>\n",
              "      <td>0</td>\n",
              "      <td>1</td>\n",
              "    </tr>\n",
              "    <tr>\n",
              "      <th>2</th>\n",
              "      <td>0</td>\n",
              "      <td>0</td>\n",
              "      <td>1</td>\n",
              "    </tr>\n",
              "    <tr>\n",
              "      <th>3</th>\n",
              "      <td>0</td>\n",
              "      <td>0</td>\n",
              "      <td>1</td>\n",
              "    </tr>\n",
              "    <tr>\n",
              "      <th>4</th>\n",
              "      <td>0</td>\n",
              "      <td>0</td>\n",
              "      <td>1</td>\n",
              "    </tr>\n",
              "    <tr>\n",
              "      <th>5</th>\n",
              "      <td>0</td>\n",
              "      <td>0</td>\n",
              "      <td>1</td>\n",
              "    </tr>\n",
              "    <tr>\n",
              "      <th>6</th>\n",
              "      <td>0</td>\n",
              "      <td>0</td>\n",
              "      <td>1</td>\n",
              "    </tr>\n",
              "    <tr>\n",
              "      <th>7</th>\n",
              "      <td>0</td>\n",
              "      <td>0</td>\n",
              "      <td>1</td>\n",
              "    </tr>\n",
              "    <tr>\n",
              "      <th>8</th>\n",
              "      <td>0</td>\n",
              "      <td>0</td>\n",
              "      <td>1</td>\n",
              "    </tr>\n",
              "    <tr>\n",
              "      <th>9</th>\n",
              "      <td>0</td>\n",
              "      <td>0</td>\n",
              "      <td>1</td>\n",
              "    </tr>\n",
              "  </tbody>\n",
              "</table>\n",
              "</div>\n",
              "    <div class=\"colab-df-buttons\">\n",
              "\n",
              "  <div class=\"colab-df-container\">\n",
              "    <button class=\"colab-df-convert\" onclick=\"convertToInteractive('df-df1a41ca-4a4c-4be0-a1a3-9c6338bbd954')\"\n",
              "            title=\"Convert this dataframe to an interactive table.\"\n",
              "            style=\"display:none;\">\n",
              "\n",
              "  <svg xmlns=\"http://www.w3.org/2000/svg\" height=\"24px\" viewBox=\"0 -960 960 960\">\n",
              "    <path d=\"M120-120v-720h720v720H120Zm60-500h600v-160H180v160Zm220 220h160v-160H400v160Zm0 220h160v-160H400v160ZM180-400h160v-160H180v160Zm440 0h160v-160H620v160ZM180-180h160v-160H180v160Zm440 0h160v-160H620v160Z\"/>\n",
              "  </svg>\n",
              "    </button>\n",
              "\n",
              "  <style>\n",
              "    .colab-df-container {\n",
              "      display:flex;\n",
              "      gap: 12px;\n",
              "    }\n",
              "\n",
              "    .colab-df-convert {\n",
              "      background-color: #E8F0FE;\n",
              "      border: none;\n",
              "      border-radius: 50%;\n",
              "      cursor: pointer;\n",
              "      display: none;\n",
              "      fill: #1967D2;\n",
              "      height: 32px;\n",
              "      padding: 0 0 0 0;\n",
              "      width: 32px;\n",
              "    }\n",
              "\n",
              "    .colab-df-convert:hover {\n",
              "      background-color: #E2EBFA;\n",
              "      box-shadow: 0px 1px 2px rgba(60, 64, 67, 0.3), 0px 1px 3px 1px rgba(60, 64, 67, 0.15);\n",
              "      fill: #174EA6;\n",
              "    }\n",
              "\n",
              "    .colab-df-buttons div {\n",
              "      margin-bottom: 4px;\n",
              "    }\n",
              "\n",
              "    [theme=dark] .colab-df-convert {\n",
              "      background-color: #3B4455;\n",
              "      fill: #D2E3FC;\n",
              "    }\n",
              "\n",
              "    [theme=dark] .colab-df-convert:hover {\n",
              "      background-color: #434B5C;\n",
              "      box-shadow: 0px 1px 3px 1px rgba(0, 0, 0, 0.15);\n",
              "      filter: drop-shadow(0px 1px 2px rgba(0, 0, 0, 0.3));\n",
              "      fill: #FFFFFF;\n",
              "    }\n",
              "  </style>\n",
              "\n",
              "    <script>\n",
              "      const buttonEl =\n",
              "        document.querySelector('#df-df1a41ca-4a4c-4be0-a1a3-9c6338bbd954 button.colab-df-convert');\n",
              "      buttonEl.style.display =\n",
              "        google.colab.kernel.accessAllowed ? 'block' : 'none';\n",
              "\n",
              "      async function convertToInteractive(key) {\n",
              "        const element = document.querySelector('#df-df1a41ca-4a4c-4be0-a1a3-9c6338bbd954');\n",
              "        const dataTable =\n",
              "          await google.colab.kernel.invokeFunction('convertToInteractive',\n",
              "                                                    [key], {});\n",
              "        if (!dataTable) return;\n",
              "\n",
              "        const docLinkHtml = 'Like what you see? Visit the ' +\n",
              "          '<a target=\"_blank\" href=https://colab.research.google.com/notebooks/data_table.ipynb>data table notebook</a>'\n",
              "          + ' to learn more about interactive tables.';\n",
              "        element.innerHTML = '';\n",
              "        dataTable['output_type'] = 'display_data';\n",
              "        await google.colab.output.renderOutput(dataTable, element);\n",
              "        const docLink = document.createElement('div');\n",
              "        docLink.innerHTML = docLinkHtml;\n",
              "        element.appendChild(docLink);\n",
              "      }\n",
              "    </script>\n",
              "  </div>\n",
              "\n",
              "\n",
              "<div id=\"df-336e135b-4a87-498d-bfb6-b7f867b8b840\">\n",
              "  <button class=\"colab-df-quickchart\" onclick=\"quickchart('df-336e135b-4a87-498d-bfb6-b7f867b8b840')\"\n",
              "            title=\"Suggest charts\"\n",
              "            style=\"display:none;\">\n",
              "\n",
              "<svg xmlns=\"http://www.w3.org/2000/svg\" height=\"24px\"viewBox=\"0 0 24 24\"\n",
              "     width=\"24px\">\n",
              "    <g>\n",
              "        <path d=\"M19 3H5c-1.1 0-2 .9-2 2v14c0 1.1.9 2 2 2h14c1.1 0 2-.9 2-2V5c0-1.1-.9-2-2-2zM9 17H7v-7h2v7zm4 0h-2V7h2v10zm4 0h-2v-4h2v4z\"/>\n",
              "    </g>\n",
              "</svg>\n",
              "  </button>\n",
              "\n",
              "<style>\n",
              "  .colab-df-quickchart {\n",
              "      --bg-color: #E8F0FE;\n",
              "      --fill-color: #1967D2;\n",
              "      --hover-bg-color: #E2EBFA;\n",
              "      --hover-fill-color: #174EA6;\n",
              "      --disabled-fill-color: #AAA;\n",
              "      --disabled-bg-color: #DDD;\n",
              "  }\n",
              "\n",
              "  [theme=dark] .colab-df-quickchart {\n",
              "      --bg-color: #3B4455;\n",
              "      --fill-color: #D2E3FC;\n",
              "      --hover-bg-color: #434B5C;\n",
              "      --hover-fill-color: #FFFFFF;\n",
              "      --disabled-bg-color: #3B4455;\n",
              "      --disabled-fill-color: #666;\n",
              "  }\n",
              "\n",
              "  .colab-df-quickchart {\n",
              "    background-color: var(--bg-color);\n",
              "    border: none;\n",
              "    border-radius: 50%;\n",
              "    cursor: pointer;\n",
              "    display: none;\n",
              "    fill: var(--fill-color);\n",
              "    height: 32px;\n",
              "    padding: 0;\n",
              "    width: 32px;\n",
              "  }\n",
              "\n",
              "  .colab-df-quickchart:hover {\n",
              "    background-color: var(--hover-bg-color);\n",
              "    box-shadow: 0 1px 2px rgba(60, 64, 67, 0.3), 0 1px 3px 1px rgba(60, 64, 67, 0.15);\n",
              "    fill: var(--button-hover-fill-color);\n",
              "  }\n",
              "\n",
              "  .colab-df-quickchart-complete:disabled,\n",
              "  .colab-df-quickchart-complete:disabled:hover {\n",
              "    background-color: var(--disabled-bg-color);\n",
              "    fill: var(--disabled-fill-color);\n",
              "    box-shadow: none;\n",
              "  }\n",
              "\n",
              "  .colab-df-spinner {\n",
              "    border: 2px solid var(--fill-color);\n",
              "    border-color: transparent;\n",
              "    border-bottom-color: var(--fill-color);\n",
              "    animation:\n",
              "      spin 1s steps(1) infinite;\n",
              "  }\n",
              "\n",
              "  @keyframes spin {\n",
              "    0% {\n",
              "      border-color: transparent;\n",
              "      border-bottom-color: var(--fill-color);\n",
              "      border-left-color: var(--fill-color);\n",
              "    }\n",
              "    20% {\n",
              "      border-color: transparent;\n",
              "      border-left-color: var(--fill-color);\n",
              "      border-top-color: var(--fill-color);\n",
              "    }\n",
              "    30% {\n",
              "      border-color: transparent;\n",
              "      border-left-color: var(--fill-color);\n",
              "      border-top-color: var(--fill-color);\n",
              "      border-right-color: var(--fill-color);\n",
              "    }\n",
              "    40% {\n",
              "      border-color: transparent;\n",
              "      border-right-color: var(--fill-color);\n",
              "      border-top-color: var(--fill-color);\n",
              "    }\n",
              "    60% {\n",
              "      border-color: transparent;\n",
              "      border-right-color: var(--fill-color);\n",
              "    }\n",
              "    80% {\n",
              "      border-color: transparent;\n",
              "      border-right-color: var(--fill-color);\n",
              "      border-bottom-color: var(--fill-color);\n",
              "    }\n",
              "    90% {\n",
              "      border-color: transparent;\n",
              "      border-bottom-color: var(--fill-color);\n",
              "    }\n",
              "  }\n",
              "</style>\n",
              "\n",
              "  <script>\n",
              "    async function quickchart(key) {\n",
              "      const quickchartButtonEl =\n",
              "        document.querySelector('#' + key + ' button');\n",
              "      quickchartButtonEl.disabled = true;  // To prevent multiple clicks.\n",
              "      quickchartButtonEl.classList.add('colab-df-spinner');\n",
              "      try {\n",
              "        const charts = await google.colab.kernel.invokeFunction(\n",
              "            'suggestCharts', [key], {});\n",
              "      } catch (error) {\n",
              "        console.error('Error during call to suggestCharts:', error);\n",
              "      }\n",
              "      quickchartButtonEl.classList.remove('colab-df-spinner');\n",
              "      quickchartButtonEl.classList.add('colab-df-quickchart-complete');\n",
              "    }\n",
              "    (() => {\n",
              "      let quickchartButtonEl =\n",
              "        document.querySelector('#df-336e135b-4a87-498d-bfb6-b7f867b8b840 button');\n",
              "      quickchartButtonEl.style.display =\n",
              "        google.colab.kernel.accessAllowed ? 'block' : 'none';\n",
              "    })();\n",
              "  </script>\n",
              "</div>\n",
              "\n",
              "    </div>\n",
              "  </div>\n"
            ],
            "application/vnd.google.colaboratory.intrinsic+json": {
              "type": "dataframe",
              "summary": "{\n  \"name\": \"pd\",\n  \"rows\": 10,\n  \"fields\": [\n    {\n      \"column\": \"0 and 1\",\n      \"properties\": {\n        \"dtype\": \"number\",\n        \"std\": 0,\n        \"min\": 0,\n        \"max\": 0,\n        \"num_unique_values\": 1,\n        \"samples\": [\n          0\n        ],\n        \"semantic_type\": \"\",\n        \"description\": \"\"\n      }\n    },\n    {\n      \"column\": \"0 and 2\",\n      \"properties\": {\n        \"dtype\": \"number\",\n        \"std\": 0,\n        \"min\": 0,\n        \"max\": 0,\n        \"num_unique_values\": 1,\n        \"samples\": [\n          0\n        ],\n        \"semantic_type\": \"\",\n        \"description\": \"\"\n      }\n    },\n    {\n      \"column\": \"1 and 2\",\n      \"properties\": {\n        \"dtype\": \"number\",\n        \"std\": 0,\n        \"min\": 1,\n        \"max\": 1,\n        \"num_unique_values\": 1,\n        \"samples\": [\n          1\n        ],\n        \"semantic_type\": \"\",\n        \"description\": \"\"\n      }\n    }\n  ]\n}"
            }
          },
          "metadata": {},
          "execution_count": 36
        }
      ],
      "source": [
        "pd.DataFrame(majority_vote_dict).head(10)"
      ],
      "execution_count": 36
    },
    {
      "cell_type": "markdown",
      "metadata": {
        "id": "04c2d610-5480-4c7a-82e8-425d092de4f1"
      },
      "source": [
        "To perform classification on a sample, we perform a majority vote, that is, select the class with the most predictions. We repeat the process for each sample.\n"
      ]
    },
    {
      "cell_type": "code",
      "metadata": {
        "id": "06d0709c-13bf-4f00-8ca1-19c19c8e3ecd",
        "colab": {
          "base_uri": "https://localhost:8080/"
        },
        "outputId": "f5bff8f1-7fb2-42eb-aa38-737e1179700f"
      },
      "outputs": [
        {
          "output_type": "execute_result",
          "data": {
            "text/plain": [
              "array([0, 0, 0, 0, 0, 0, 0, 0, 0, 0, 0, 0, 0, 0, 0, 0, 0, 0, 0, 0, 0, 0,\n",
              "       0, 0, 0, 0, 0, 0, 0, 0, 0, 0, 0, 0, 0, 0, 0, 0, 0, 0, 0, 0, 0, 0,\n",
              "       0, 0, 0, 0, 0, 0, 1, 1, 1, 1, 1, 1, 1, 1, 1, 1, 1, 1, 1, 1, 1, 1,\n",
              "       1, 1, 1, 1, 2, 1, 1, 1, 1, 1, 1, 2, 1, 1, 1, 1, 1, 1, 1, 1, 1, 1,\n",
              "       1, 1, 1, 1, 1, 1, 1, 1, 1, 1, 1, 1, 2, 2, 2, 2, 2, 2, 2, 2, 2, 2,\n",
              "       2, 2, 2, 2, 2, 2, 2, 2, 2, 1, 2, 2, 2, 2, 2, 2, 2, 2, 2, 1, 2, 2,\n",
              "       2, 1, 1, 2, 2, 2, 2, 2, 2, 2, 2, 2, 2, 2, 2, 2, 2, 2])"
            ]
          },
          "metadata": {},
          "execution_count": 38
        }
      ],
      "source": [
        "one_vs_one=np.array([np.bincount(sample.astype(int)).argmax() for sample  in majority_vote_array])\n",
        "one_vs_one\n"
      ],
      "execution_count": 38
    },
    {
      "cell_type": "markdown",
      "metadata": {
        "id": "bd8994fd-4778-4d29-af65-4ec74cf7e9e4"
      },
      "source": [
        "We calculate the accuracy:\n"
      ]
    },
    {
      "cell_type": "code",
      "metadata": {
        "id": "2637c1f0-b387-4b6a-b073-21d209386d58",
        "colab": {
          "base_uri": "https://localhost:8080/"
        },
        "outputId": "69e35dcf-8ace-44e4-cfb8-b8eb626fe76a"
      },
      "outputs": [
        {
          "output_type": "execute_result",
          "data": {
            "text/plain": [
              "0.96"
            ]
          },
          "metadata": {},
          "execution_count": 39
        }
      ],
      "source": [
        "accuracy_score(y,one_vs_one)"
      ],
      "execution_count": 39
    },
    {
      "cell_type": "markdown",
      "metadata": {
        "id": "25055e68-1a93-4aa5-89dc-bbf130e84e51"
      },
      "source": [
        "If we compare it to `sklearn`, it's the same!\n"
      ]
    },
    {
      "cell_type": "code",
      "metadata": {
        "id": "cb897375-5c00-429a-bb34-448feabdd764",
        "colab": {
          "base_uri": "https://localhost:8080/"
        },
        "outputId": "2fe61811-2861-434e-9dc7-e48c7d603dc2"
      },
      "outputs": [
        {
          "output_type": "execute_result",
          "data": {
            "text/plain": [
              "1.0"
            ]
          },
          "metadata": {},
          "execution_count": 40
        }
      ],
      "source": [
        "accuracy_score(yhat,one_vs_one)"
      ],
      "execution_count": 40
    },
    {
      "cell_type": "markdown",
      "metadata": {
        "id": "a283d0f4-df25-4ae6-802e-e1a76f981a36"
      },
      "source": [
        "***\n"
      ]
    },
    {
      "cell_type": "markdown",
      "metadata": {
        "id": "859c5d1d-8dbf-4ff2-97b7-89a80a6951e8"
      },
      "source": [
        "## Author\n"
      ]
    },
    {
      "cell_type": "markdown",
      "metadata": {
        "id": "d9601b86-1392-432a-b6dd-b42de820b63b"
      },
      "source": [
        "<a href=\"https://www.linkedin.com/in/joseph-s-50398b136/?utm_medium=Exinfluencer&utm_source=Exinfluencer&utm_content=000026UJ&utm_term=10006555&utm_id=NA-SkillsNetwork-Channel-SkillsNetworkCoursesIBMDeveloperSkillsNetworkML0101ENSkillsNetwork20718538-2021-01-01\" target=\"_blank\">Joseph Santarcangelo</a>\n"
      ]
    },
    {
      "cell_type": "markdown",
      "metadata": {
        "id": "6fef964f-37d9-437b-afd4-dd5bb0738fce"
      },
      "source": [
        "### Other Contributors\n"
      ]
    },
    {
      "cell_type": "markdown",
      "metadata": {
        "id": "162cc6c8-6b60-48a7-ae91-ff55e760aba6"
      },
      "source": [
        "Azim Hirjani\n"
      ]
    },
    {
      "cell_type": "markdown",
      "metadata": {
        "id": "24ba2c22-8f0f-42df-a125-30397d920a89"
      },
      "source": [
        "Copyright © 2020 IBM Corporation. All rights reserved.\n"
      ]
    },
    {
      "cell_type": "markdown",
      "metadata": {
        "id": "4726bac4-0077-448d-8cbb-19fdb36edfd8"
      },
      "source": [
        "<!--\n",
        "## Change Log\n",
        "| Date (YYYY-MM-DD) | Version | Changed By | Change Description      |\n",
        "| ----------------- | ------- | ---------- | ----------------------- |\n",
        "| 2020-07-20        | 0.2     | Azim       | Modified Multiple Areas |\n",
        "| 2020-07-17        | 0.1     | Azim       | Created Lab Template    |\n",
        "| 2022-08-31        | 0.3     | Steve Hord | QA pass edits           |\n",
        "--!>\n"
      ]
    }
  ],
  "metadata": {
    "kernelspec": {
      "display_name": "Python",
      "language": "python",
      "name": "conda-env-python-py"
    },
    "language_info": {
      "name": "python",
      "version": "3.7.12",
      "mimetype": "text/x-python",
      "codemirror_mode": {
        "name": "ipython",
        "version": 3
      },
      "pygments_lexer": "ipython3",
      "nbconvert_exporter": "python",
      "file_extension": ".py"
    },
    "prev_pub_hash": "7e58767861ed9bb0ec15f569aaa1425629b3fb835d044237ccbb1d324a96d068",
    "colab": {
      "provenance": []
    }
  },
  "nbformat": 4,
  "nbformat_minor": 0
}